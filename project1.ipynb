{
 "cells": [
  {
   "cell_type": "markdown",
   "id": "252a4a34",
   "metadata": {},
   "source": [
    "# Project 1: Assembling Genes"
   ]
  },
  {
   "cell_type": "markdown",
   "id": "4eaa2c2b",
   "metadata": {},
   "source": [
    "   <div class=\"alert alert-block alert-danger\">\n",
    "    <center>Due: <b>Monday, September 5, 8:59pm</b>.</center> \n",
    "   </div>\n",
    "   \n",
    "   <div class=\"alert alert-block alert-warning\">\n",
    "   <center>\n",
    "       <b>Collaboration and Resource Policy</b>\n",
    "    </center>\n",
    "    \n",
    "For this assignment, you are encouraged to work with one other person satisfying the constraints from Class 2. \n",
    "You are permitted (actually _encouraged_) to discuss these problems with anyone you want, including other students in the class. If you do discuss the specific questions in the assignment with anyone other than your assignment partner and the course staff, though, you should list them in the _External resources used_ section below.\n",
    "    \n",
    "You are welcome to use any resources you want for this assignment, other than ones that would defeat the purpose of the assignment. This means you should not look at answers or code from previous semesters of this course, or from any other students in the class (other than your collaboration with your partner), and if you find code that implements the problem you are being asked to do for the assignment, you should not use that code. You should document all external resource you use that are not part of the course materials in the _External resources used_ section below.\n",
    "    </div>"
   ]
  },
  {
   "cell_type": "markdown",
   "id": "2724669e",
   "metadata": {},
   "source": [
    "**Team submitting this assignment:**  \n",
    "<div class=\"alert alert-success\">\n",
    "    <b><em>list each member of your team here, including both your name and UVA computing id</em></b>\n",
    "\n",
    "Team Members (Names): Emma Forrestal & Sarah Murphy\n",
    "\n",
    "Team Member UVA Computing IDs: ecf5rcw & sem7zfj\n",
    "\n",
    "</div>\n",
    "\n",
    "**External resources used:** \n",
    "<div class=\"alert alert-success\">\n",
    "<em>It is not necessary to list the course materials, but if you used any other resources, including discussing problems with students not on your team, list them here.</em>\n",
    "    \n",
    "External Resources Used:\n",
    "\n",
    "</div>"
   ]
  },
  {
   "cell_type": "markdown",
   "id": "669bb516",
   "metadata": {},
   "source": [
    "In this project, we will explore genome assembly—the process of determining the order of nucleotides in DNA from fragmented reads. As you might have studied in the reading assignments, genome assembly can get quite complicated, as problems such as full sequence coverage, finding a good length for reads (the $k$ in $k$-mer), and sequencing errors present challenges for sequencing analysis and accuracy. You can assume perfect coverage for all parts of the assignment and no read errors for the first two questions.\n",
    "\n",
    "\n",
    "<b>Submission</b>: Please submit the code you wrote to generate your answers for all parts using this form: <a href=\"https://forms.gle/rNTXfYojTLEQ8idg6\"><em>https://forms.gle/rNTXfYojTLEQ8idg6</em></a>. Your answers should be in the Jupyter Notebook, along with your code. Before submission, you should make a copy of your notebook file with the name <i>uvaid1\\_uvaid2.ipynb</i> (where <i>uvaidn</i> is each teammates UVA id) so the submitted file identifies you. You and your partner should submit a single file once together. Submission is due 8:59 pm (EST) on Monday, September 5."
   ]
  },
  {
   "cell_type": "markdown",
   "id": "7b56c8e5",
   "metadata": {},
   "source": [
    "## Install basic required packages."
   ]
  },
  {
   "cell_type": "markdown",
   "id": "e13a11b5",
   "metadata": {},
   "source": [
    "- Install basic required packages, should be run only once. You may need to restart the kernel after this stage.\n",
    "- Make sure you have [graphviz](https://graphviz.org/download/) installed on your system.\n",
    "- The second cell adds Graphviz to your path, you may have to change based on where the install folder is.\n",
    "\n",
    "<b>NOTE: We provide utils.py, which may contain helpful functions for you to use, as well as gvmagic.py, which is a deprecated package to use graphviz within the notebook</b>"
   ]
  },
  {
   "cell_type": "code",
   "execution_count": 1,
   "id": "a7eebc2e",
   "metadata": {},
   "outputs": [
    {
     "name": "stdout",
     "output_type": "stream",
     "text": [
      "Requirement already satisfied: numpy in /Users/emmaforrestal/opt/anaconda3/lib/python3.8/site-packages (from -r requirements.txt (line 1)) (1.19.5)\n",
      "Requirement already satisfied: matplotlib in /Users/emmaforrestal/opt/anaconda3/lib/python3.8/site-packages (from -r requirements.txt (line 2)) (3.3.4)\n",
      "Requirement already satisfied: pydot in /Users/emmaforrestal/opt/anaconda3/lib/python3.8/site-packages (from -r requirements.txt (line 3)) (1.4.2)\n",
      "Requirement already satisfied: graphviz in /Users/emmaforrestal/opt/anaconda3/lib/python3.8/site-packages (from -r requirements.txt (line 4)) (0.17)\n",
      "Requirement already satisfied: python-dateutil>=2.1 in /Users/emmaforrestal/opt/anaconda3/lib/python3.8/site-packages (from matplotlib->-r requirements.txt (line 2)) (2.8.1)\n",
      "Requirement already satisfied: pillow>=6.2.0 in /Users/emmaforrestal/opt/anaconda3/lib/python3.8/site-packages (from matplotlib->-r requirements.txt (line 2)) (8.2.0)\n",
      "Requirement already satisfied: pyparsing!=2.0.4,!=2.1.2,!=2.1.6,>=2.0.3 in /Users/emmaforrestal/opt/anaconda3/lib/python3.8/site-packages (from matplotlib->-r requirements.txt (line 2)) (2.4.7)\n",
      "Requirement already satisfied: cycler>=0.10 in /Users/emmaforrestal/opt/anaconda3/lib/python3.8/site-packages (from matplotlib->-r requirements.txt (line 2)) (0.10.0)\n",
      "Requirement already satisfied: kiwisolver>=1.0.1 in /Users/emmaforrestal/opt/anaconda3/lib/python3.8/site-packages (from matplotlib->-r requirements.txt (line 2)) (1.3.1)\n",
      "Requirement already satisfied: six in /Users/emmaforrestal/opt/anaconda3/lib/python3.8/site-packages (from cycler>=0.10->matplotlib->-r requirements.txt (line 2)) (1.15.0)\n",
      "Note: you may need to restart the kernel to use updated packages.\n"
     ]
    }
   ],
   "source": [
    "%pip install -r requirements.txt"
   ]
  },
  {
   "cell_type": "code",
   "execution_count": 3,
   "id": "7e1d4f79",
   "metadata": {},
   "outputs": [],
   "source": [
    "import os\n",
    "# os.environ[\"PATH\"] += os.pathsep + 'C:/Program Files/Graphviz/bin'\n",
    "os.environ[\"PATH\"] += os.pathsep + '/Users/emmaforrestal/opt/anaconda3/lib/python3.8/site-packages/tensorflow/python/graphviz'"
   ]
  },
  {
   "cell_type": "markdown",
   "id": "abfcef21",
   "metadata": {},
   "source": [
    "## Genome Assembly\n",
    "\n",
    "For this part, you're given reads generated while trying to sequence the DNA of a TeleTubby (some unknown organism) with a \\textit{very} small genetic code. By answering the following questions, you will learn how to assemble the original genome sequence from sequence reads.\n",
    "\n",
    "Sequencing data is often stored in FASTQ file format. In TeleTubby.fastq, you will find the data organized in a particular order that repeats every four lines. The first line contains the metadata that encodes the name of the read, the experiment type, the kind of sequencing machine used, etc. The second line is the sequence of bases. The third line functions as a placeholder line. The fourth line is a sequence of base qualities that encode the qualities for the corresponding bases in the sequence line. We will only work with the sequence and quality score lines in this question."
   ]
  },
  {
   "cell_type": "code",
   "execution_count": 4,
   "id": "a063f968",
   "metadata": {},
   "outputs": [],
   "source": [
    "import collections\n",
    "import matplotlib.pyplot as plt\n",
    "import numpy as np\n",
    "import utils\n",
    "from tqdm import tqdm"
   ]
  },
  {
   "cell_type": "markdown",
   "id": "42c57c72",
   "metadata": {},
   "source": [
    "#### Question 1.1.1 GC-content\n",
    "\n",
    "The GC-content (or the ratio of G and C nucleotides) is related to the melting temperature of the DNA double helix. Use the following equation to calculate the melting temperature of DNA for TeleTubby $t_m$ in Celsius:\n",
    "\n",
    "\\begin{equation*}\n",
    "t_m = 64.9+0.41(\\%GC)-\\frac{500}{\\text{length of sequence}}\n",
    "\\end{equation*}\n",
    "\n",
    "As a reference, the human genome is known to have between 35%-60% GC-content. "
   ]
  },
  {
   "cell_type": "code",
   "execution_count": 6,
   "id": "d0400dc9",
   "metadata": {},
   "outputs": [
    {
     "name": "stdout",
     "output_type": "stream",
     "text": [
      "84.35 degrees Celsius\n"
     ]
    }
   ],
   "source": [
    "# Read sequence reads (error-free) from file\n",
    "sequence_reads, qualities = utils.read_fastq('TeleTubby.fastq')\n",
    "# print(sequence_reads)\n",
    "# print(qualities)\n",
    "# Calculate %GC content\n",
    "gc_count = 0\n",
    "total_count = 0\n",
    "for seq in sequence_reads:\n",
    "    n = len(seq)\n",
    "    total_count = total_count + n\n",
    "    for let in seq:\n",
    "        if let == \"C\" or let == \"G\":\n",
    "            gc_count = gc_count + 1\n",
    "gc_perc = (gc_count * 100) / total_count\n",
    "# Print out temperature in Celsius\n",
    "temp = 64.9 + (0.41 * gc_perc)\n",
    "temp = temp - (500 / total_count)\n",
    "print(round(temp,2), \"degrees Celsius\")"
   ]
  },
  {
   "cell_type": "markdown",
   "id": "8b789101",
   "metadata": {},
   "source": [
    "#### Question 1.1.2 Interpreting quality scores"
   ]
  },
  {
   "cell_type": "markdown",
   "id": "74c297b0",
   "metadata": {},
   "source": [
    "Phred33 quality scores are represented as the character with an ASCII code equal to its value + 33 (to make them easy to print alongside genome sequences). List the top 5 most frequent scores in ASCII symbol as well as their Phredd33 scores in TeleTubby.fastq. You can refer to the [official Illumina website](https://support.illumina.com/help/BaseSpace_OLH_009008/Content/Source/Informatics/BS/QualityScoreEncoding_swBS.htm) to reference the scoring encoding.\n",
    "\n",
    "What is the average Phred33 score in TeleTubby.fastq?"
   ]
  },
  {
   "cell_type": "code",
   "execution_count": 7,
   "id": "b19a884d",
   "metadata": {},
   "outputs": [
    {
     "name": "stdout",
     "output_type": "stream",
     "text": [
      "The average Phredd33 score is 275.81\n",
      "The most frequent score is  20 and this character is 5\n",
      "The 2nd most frequent score is  30 and this character is ?\n",
      "The 3rd most frequent score is  35 and this character is D\n",
      "The 4th most frequent score is  42 and this character is K\n",
      "The 5th most frequent score is  37 and this character is F\n"
     ]
    }
   ],
   "source": [
    "# Calculate and print average Phred33 score\n",
    "sequence_reads, qualities = utils.read_fastq('TeleTubby.fastq')\n",
    "# print(qualities)\n",
    "total_phreds = 0\n",
    "counts = dict()\n",
    "num = len(qualities)\n",
    "\n",
    "for score in qualities:\n",
    "    for char in score:\n",
    "        phred33 = ord(char) - 33\n",
    "        total_phreds += phred33\n",
    "        if char in counts.keys():\n",
    "            counts[char] = counts.get(char) + 1\n",
    "        else:\n",
    "            counts[char] = 1;\n",
    "\n",
    "avg_phred = total_phreds / num\n",
    "print (\"The average Phredd33 score is\", round(avg_phred,2))\n",
    "\n",
    "# print(counts)\n",
    "sorted_counts = dict(sorted(counts.items(), key=lambda item: item[1], reverse = True))\n",
    "# print(sorted_counts)\n",
    "\n",
    "keys = list(sorted_counts.keys())\n",
    "# print(keys)\n",
    "\n",
    "print(\"The most frequent score is \", ord(keys[0]) - 33, \"and this character is\", keys[0])\n",
    "print(\"The 2nd most frequent score is \", ord(keys[1]) - 33, \"and this character is\", keys[1])\n",
    "print(\"The 3rd most frequent score is \", ord(keys[2]) - 33, \"and this character is\", keys[2])\n",
    "print(\"The 4th most frequent score is \", ord(keys[3]) - 33, \"and this character is\", keys[3])\n",
    "print(\"The 5th most frequent score is \", ord(keys[4]) - 33, \"and this character is\", keys[4])"
   ]
  },
  {
   "cell_type": "markdown",
   "id": "83720b78",
   "metadata": {},
   "source": [
    "#### Question 1.1.3 Frequency analysis\n",
    "\n",
    "Looking at repetitions in the sequence can be helpful in estimating the \"redudancy\" in the organisms. Humand and other evolved animals have a lot of redundancy, while smaller organisms like bacteria have highly packed genomes. One heuristic to estimate this before actually performing the assembly could be looking at how often certain $k$-mers are repeated.\n",
    "\n",
    "<b>Print out the 3 most frequent k-mers with their frequencies</b>"
   ]
  },
  {
   "cell_type": "code",
   "execution_count": 8,
   "id": "58cceeee",
   "metadata": {},
   "outputs": [
    {
     "name": "stdout",
     "output_type": "stream",
     "text": [
      "The most repeated k-mer is GCTATCGC and the frequency is 3\n",
      "The second most repeated k-mers is a three way tie between CGCTATCG , TATCGCAA , and CTATCGCA and the frequency for these is 2\n",
      "The third most repeated k-mer is a tie between all the remaining k-mers which all occur with a frequency of 1\n"
     ]
    }
   ],
   "source": [
    "# Find and print out the three most repeated k-mers and their frequencies\n",
    "sequence_reads, qualities = utils.read_fastq('TeleTubby.fastq')\n",
    "\n",
    "# print(sequence_reads)\n",
    "counts = dict()\n",
    "    \n",
    "for seq in sequence_reads:\n",
    "    num = len(sequence_reads)\n",
    "    if seq in counts.keys():\n",
    "        counts[seq] = counts.get(seq) + 1\n",
    "    else:\n",
    "        counts[seq] = 1;\n",
    "            \n",
    "# print(counts)\n",
    "\n",
    "sorted_counts = dict(sorted(counts.items(), key=lambda item: item[1], reverse = True))\n",
    "# print(sorted_counts)\n",
    "\n",
    "keys = list(sorted_counts.keys())\n",
    "\n",
    "first = keys[0]\n",
    "print(\"The most repeated k-mer is\", first, \"and the frequency is\", sorted_counts[first])\n",
    "second1 = keys[1]\n",
    "second2 = keys[2]\n",
    "second3 = keys[3]\n",
    "print(\"The second most repeated k-mers is a three way tie between\",second1,\",\",second2,\",\",\"and\",second3, \"and the frequency for these is\", sorted_counts[second1])\n",
    "\n",
    "print(\"The third most repeated k-mer is a tie between all the remaining k-mers which all occur with a frequency of 1\")"
   ]
  },
  {
   "cell_type": "markdown",
   "id": "e5c23308",
   "metadata": {},
   "source": [
    "### Question 1.2. Greedy approach"
   ]
  },
  {
   "cell_type": "markdown",
   "id": "8baf0c70",
   "metadata": {},
   "source": [
    "One of the approaches to assemble the genome from the given reads is a greedy algorithm. Have a look at the greedy algorithm described on [Wikipedia](https://en.wikipedia.org/wiki/Sequence_assembly#Greedy_algorithm) and answer the following."
   ]
  },
  {
   "cell_type": "markdown",
   "id": "067a4cb4",
   "metadata": {},
   "source": [
    "#### Question 1.2.1 What would the runtime be of this algorithm, given $n$ $k$-mer reads?"
   ]
  },
  {
   "cell_type": "markdown",
   "id": "5febf0e0",
   "metadata": {},
   "source": [
    "<i>Answer</i>: The greedy algorithm contains an external while loop that runs through all the fragments, which takes n time. There is also a pairwise alignment calculation which has a run time of O(n^2) because each fragment being paired has to be compared with every other fragment. This goes through the while loop n times. Therefore the runtime with this algorithm would be O(n^3)."
   ]
  },
  {
   "cell_type": "markdown",
   "id": "1ecbda60",
   "metadata": {},
   "source": [
    "#### Question 1.2.2 Would this algorithm always yield a unique solution?"
   ]
  },
  {
   "cell_type": "markdown",
   "id": "892481c5",
   "metadata": {},
   "source": [
    "<i>Answer</i>: This algorithm is not going to always find a unique solution because there can be repetitions in the k-mers within the genome, as the genome is known to contain lengthy repeat sequences. This would ultimately lead to multiple solutions to the problem that are not always unique."
   ]
  },
  {
   "cell_type": "markdown",
   "id": "f6eb2643",
   "metadata": {},
   "source": [
    "#### Question 1.2.3 Would this algorithm always yield the <i>right</i> solution?"
   ]
  },
  {
   "cell_type": "markdown",
   "id": "9c97ceea",
   "metadata": {},
   "source": [
    "<i>Answer</i>: This algorithm is not going to always find the right solution for the genome sequence. It cannot guarantee that it will find the shortest sequence of all the fragments, or that the shortest sequence is the correct sequence. Additionally since it is possible for there not to be an unique solution with every iteration of the algorithm, you cannot know which solution is the right solution. Perfect alignment and overlapping of fragments is not guaranteed with this algorithm, so you cannot guarantee the right solution."
   ]
  },
  {
   "cell_type": "markdown",
   "id": "63b00e64",
   "metadata": {},
   "source": [
    "### Question 1.3 Graph-based approaches"
   ]
  },
  {
   "cell_type": "markdown",
   "id": "160718d9",
   "metadata": {},
   "source": [
    "Graphs for genome assembly can be constructed in two ways:\n",
    "\n",
    "- de Bruijn graph: Processing $k-$mers as nodes, with $(k-1)-$mers as edges, and\n",
    "- Overlap graph: Processing $k-$mers as edges, with $(k-1)-$mers as nodes.\n",
    "\n",
    "de Bruijn graphs can be processed to find Euler paths, while Overlap graphs can be processed to find Hamiltonian paths. Both of these are valid ways to reconstruct the original genome.\n",
    "\n",
    "<b>Use one of these two techniques to reconstruct the sequence, and print out your reconstructed sequence. Which method did you pick out of the two, and why? (hint: imagine what would happen when we have millions of reads). Use the k-mers provided in TeleTubby.fastq</b>.\n",
    "\n",
    "We provide some skeleton code that you may use, but you may also come up with your own solution."
   ]
  },
  {
   "cell_type": "code",
   "execution_count": 55,
   "id": "77dfd63b",
   "metadata": {},
   "outputs": [
    {
     "name": "stdout",
     "output_type": "stream",
     "text": [
      "TAG\n"
     ]
    }
   ],
   "source": [
    "# Read reads into graph\n",
    "\n",
    "def build_graph(k_mers):\n",
    "    edges = []\n",
    "    nodes = set()\n",
    "    # Your code here\n",
    "    for k_mer in k_mers:\n",
    "        size = len(k_mer)\n",
    "        for n in range(0, size - 1):\n",
    "            node = k_mer[n:n+2]\n",
    "            nodes.add(node)\n",
    "        for n2 in range(0, size - 2):\n",
    "            edge = k_mer[n2:n2+3]\n",
    "            edges.append(edge)\n",
    "    return nodes, edges\n",
    "\n",
    "\n",
    "sequence_reads, qualities = utils.read_fastq('TeleTubby.fastq')\n",
    "nodes, edges = build_graph(sequence_reads)\n",
    "# print(nodes)\n",
    "# print(edges)\n",
    "print(edges[len(edges)-1])"
   ]
  },
  {
   "cell_type": "code",
   "execution_count": null,
   "id": "6956493c",
   "metadata": {},
   "outputs": [],
   "source": []
  },
  {
   "cell_type": "code",
   "execution_count": null,
   "id": "28d6956b",
   "metadata": {},
   "outputs": [],
   "source": [
    "# Implement assembly algorithm"
   ]
  },
  {
   "cell_type": "code",
   "execution_count": null,
   "id": "5dc2f801",
   "metadata": {},
   "outputs": [],
   "source": [
    "# Print assembled sequence"
   ]
  },
  {
   "cell_type": "code",
   "execution_count": null,
   "id": "8a52a7a9",
   "metadata": {},
   "outputs": [],
   "source": [
    "# Needed to properly visualize graphs\n",
    "%load_ext gvmagic"
   ]
  },
  {
   "cell_type": "code",
   "execution_count": null,
   "id": "5727e931",
   "metadata": {},
   "outputs": [],
   "source": [
    "# Helper function to visualize de Bruijn graphs\n",
    "%dotstr utils.viz_debruijn(nodes_bruijn, edges_bruijn)"
   ]
  },
  {
   "cell_type": "code",
   "execution_count": 69,
   "id": "c8b54ed5",
   "metadata": {},
   "outputs": [],
   "source": [
    "# Main assembly algorithm\n",
    "\n",
    "def assemble_sequence(nodes, edges):\n",
    "    assembled_sequence = \"\"\n",
    "    # Your code here\n",
    "    visited_edges = edges\n",
    "    size = len(visited_edges)\n",
    "    for node in nodes:\n",
    "        start_node = node\n",
    "        for n in range(0, size):\n",
    "            edge = visited_edges[n]\n",
    "            length = len(edge)\n",
    "            if node == edge[0:length - 1] or node == edge[1:length]:\n",
    "                assembled_sequence += edge\n",
    "                visited_edges.remove(visited_edges[n])\n",
    "    assemble_sequence += assemble_sequence(nodes, visited_edges)\n",
    "            \n",
    "    return assembled_sequence"
   ]
  },
  {
   "cell_type": "code",
   "execution_count": 70,
   "id": "c70ef50a",
   "metadata": {},
   "outputs": [
    {
     "ename": "IndexError",
     "evalue": "list index out of range",
     "output_type": "error",
     "traceback": [
      "\u001b[0;31m---------------------------------------------------------------------------\u001b[0m",
      "\u001b[0;31mIndexError\u001b[0m                                Traceback (most recent call last)",
      "\u001b[0;32m<ipython-input-70-3108e6dbc619>\u001b[0m in \u001b[0;36m<module>\u001b[0;34m\u001b[0m\n\u001b[1;32m      3\u001b[0m \u001b[0mnodes\u001b[0m\u001b[0;34m,\u001b[0m \u001b[0medges\u001b[0m \u001b[0;34m=\u001b[0m \u001b[0mbuild_graph\u001b[0m\u001b[0;34m(\u001b[0m\u001b[0msequence_reads\u001b[0m\u001b[0;34m)\u001b[0m\u001b[0;34m\u001b[0m\u001b[0;34m\u001b[0m\u001b[0m\n\u001b[1;32m      4\u001b[0m \u001b[0;34m\u001b[0m\u001b[0m\n\u001b[0;32m----> 5\u001b[0;31m \u001b[0massembled_seq\u001b[0m \u001b[0;34m=\u001b[0m \u001b[0massemble_sequence\u001b[0m\u001b[0;34m(\u001b[0m\u001b[0mnodes\u001b[0m\u001b[0;34m,\u001b[0m \u001b[0medges\u001b[0m\u001b[0;34m)\u001b[0m\u001b[0;34m\u001b[0m\u001b[0;34m\u001b[0m\u001b[0m\n\u001b[0m\u001b[1;32m      6\u001b[0m \u001b[0mprint\u001b[0m\u001b[0;34m(\u001b[0m\u001b[0massembled_seq\u001b[0m\u001b[0;34m)\u001b[0m\u001b[0;34m\u001b[0m\u001b[0;34m\u001b[0m\u001b[0m\n",
      "\u001b[0;32m<ipython-input-69-df515de8770f>\u001b[0m in \u001b[0;36massemble_sequence\u001b[0;34m(nodes, edges)\u001b[0m\n\u001b[1;32m      9\u001b[0m         \u001b[0mstart_node\u001b[0m \u001b[0;34m=\u001b[0m \u001b[0mnode\u001b[0m\u001b[0;34m\u001b[0m\u001b[0;34m\u001b[0m\u001b[0m\n\u001b[1;32m     10\u001b[0m         \u001b[0;32mfor\u001b[0m \u001b[0mn\u001b[0m \u001b[0;32min\u001b[0m \u001b[0mrange\u001b[0m\u001b[0;34m(\u001b[0m\u001b[0;36m0\u001b[0m\u001b[0;34m,\u001b[0m \u001b[0msize\u001b[0m\u001b[0;34m)\u001b[0m\u001b[0;34m:\u001b[0m\u001b[0;34m\u001b[0m\u001b[0;34m\u001b[0m\u001b[0m\n\u001b[0;32m---> 11\u001b[0;31m             \u001b[0medge\u001b[0m \u001b[0;34m=\u001b[0m \u001b[0mvisited_edges\u001b[0m\u001b[0;34m[\u001b[0m\u001b[0mn\u001b[0m\u001b[0;34m]\u001b[0m\u001b[0;34m\u001b[0m\u001b[0;34m\u001b[0m\u001b[0m\n\u001b[0m\u001b[1;32m     12\u001b[0m             \u001b[0mlength\u001b[0m \u001b[0;34m=\u001b[0m \u001b[0mlen\u001b[0m\u001b[0;34m(\u001b[0m\u001b[0medge\u001b[0m\u001b[0;34m)\u001b[0m\u001b[0;34m\u001b[0m\u001b[0;34m\u001b[0m\u001b[0m\n\u001b[1;32m     13\u001b[0m             \u001b[0;32mif\u001b[0m \u001b[0mnode\u001b[0m \u001b[0;34m==\u001b[0m \u001b[0medge\u001b[0m\u001b[0;34m[\u001b[0m\u001b[0;36m0\u001b[0m\u001b[0;34m:\u001b[0m\u001b[0mlength\u001b[0m \u001b[0;34m-\u001b[0m \u001b[0;36m1\u001b[0m\u001b[0;34m]\u001b[0m \u001b[0;32mor\u001b[0m \u001b[0mnode\u001b[0m \u001b[0;34m==\u001b[0m \u001b[0medge\u001b[0m\u001b[0;34m[\u001b[0m\u001b[0;36m1\u001b[0m\u001b[0;34m:\u001b[0m\u001b[0mlength\u001b[0m\u001b[0;34m]\u001b[0m\u001b[0;34m:\u001b[0m\u001b[0;34m\u001b[0m\u001b[0;34m\u001b[0m\u001b[0m\n",
      "\u001b[0;31mIndexError\u001b[0m: list index out of range"
     ]
    }
   ],
   "source": [
    "# Output assembled sequence\n",
    "sequence_reads, qualities = utils.read_fastq('TeleTubby.fastq')\n",
    "nodes, edges = build_graph(sequence_reads)\n",
    "\n",
    "assembled_seq = assemble_sequence(nodes, edges)\n",
    "print(assembled_seq)"
   ]
  },
  {
   "cell_type": "markdown",
   "id": "7c9a942f",
   "metadata": {},
   "source": [
    "## Question 2 - Sequencing SARS-CoV-2 virus"
   ]
  },
  {
   "cell_type": "markdown",
   "id": "94f24d8e",
   "metadata": {},
   "source": [
    "Let's move on from TeleTubbies to real-world organisms. Let's start small- with a variant of the SARS-CoV-2 virus. You're given reads from <i>actual</i> genome sequencing runs in the SARS-CoV2.fastq file provided.\n",
    "\n",
    "Repeat Question 1.3 on this data. You can re-use your implementation and simply run it on the new data. Print out your reconstructed sequence to a file \"output.txt\". For this part, we will still assume that all the reads are error-free. Set $k=25$."
   ]
  },
  {
   "cell_type": "code",
   "execution_count": null,
   "id": "b0ae5ac7",
   "metadata": {},
   "outputs": [],
   "source": [
    "# Read sequence reads\n",
    "sequence_reads_covid, qualities_covid = utils.read_fastq('SARS-CoV2.fastq')"
   ]
  },
  {
   "cell_type": "code",
   "execution_count": null,
   "id": "a4e92b23",
   "metadata": {},
   "outputs": [],
   "source": [
    "# Read reads into graph\n",
    "nodes_covid, edges_covid = build_graph(sequence_reads_covid)"
   ]
  },
  {
   "cell_type": "code",
   "execution_count": null,
   "id": "9449c508",
   "metadata": {},
   "outputs": [],
   "source": [
    "# Call main assembly algorithm\n",
    "assmebled_covid_seq = assemble_sequence(nodes_covid, edges_covid)"
   ]
  },
  {
   "cell_type": "code",
   "execution_count": null,
   "id": "af5f24a5",
   "metadata": {},
   "outputs": [],
   "source": [
    "# Write assembled sequence to file\n",
    "\n",
    "assmebled_seq = \"\" # Use your assembled genome\n",
    "with open(\"covid_overlap.txt\", \"w\") as f:\n",
    "    f.write(assmebled_seq)"
   ]
  },
  {
   "cell_type": "markdown",
   "id": "3b639e1a",
   "metadata": {},
   "source": [
    "# Question 3- Error-Aware Assembly (Extra Credit)"
   ]
  },
  {
   "cell_type": "markdown",
   "id": "0a055957",
   "metadata": {},
   "source": [
    "In the parts above, we assumed error-free reads while assembling $k$-mers. As much as we'd like that, actual reads can (and do) have errors, captured by their Phred scores. For this question, you're given raw, actual reads from sequencing runs (download reads here: https://sra-pub-sars-cov2.s3.amazonaws.com/sra-src/SRR11528307/ABS2-LN-R1_cleaned_paired.fastq.gz).  Given these reads and their Phred33 scores, can you assemble the genome?\n",
    "\n",
    "<b>Print out your assembled sequence, along with a brief explanation of how your algorithm works</b>\n",
    "\n",
    "This is an open-ended question. You are free to use any approach to deal with the issue. Make sure you provide your code, along with any assumptions you may have, in the cells below."
   ]
  },
  {
   "cell_type": "code",
   "execution_count": null,
   "id": "b6957ad2",
   "metadata": {},
   "outputs": [],
   "source": []
  },
  {
   "cell_type": "code",
   "execution_count": null,
   "id": "98eef5ee",
   "metadata": {},
   "outputs": [],
   "source": []
  }
 ],
 "metadata": {
  "kernelspec": {
   "display_name": "Python 3",
   "language": "python",
   "name": "python3"
  },
  "language_info": {
   "codemirror_mode": {
    "name": "ipython",
    "version": 3
   },
   "file_extension": ".py",
   "mimetype": "text/x-python",
   "name": "python",
   "nbconvert_exporter": "python",
   "pygments_lexer": "ipython3",
   "version": "3.8.8"
  }
 },
 "nbformat": 4,
 "nbformat_minor": 5
}
